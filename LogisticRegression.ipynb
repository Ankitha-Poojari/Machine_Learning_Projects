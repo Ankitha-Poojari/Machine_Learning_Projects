{
  "nbformat": 4,
  "nbformat_minor": 0,
  "metadata": {
    "colab": {
      "provenance": [],
      "authorship_tag": "ABX9TyNmEQK81u2i4utP5CPSFVmH",
      "include_colab_link": true
    },
    "kernelspec": {
      "name": "python3",
      "display_name": "Python 3"
    },
    "language_info": {
      "name": "python"
    }
  },
  "cells": [
    {
      "cell_type": "markdown",
      "metadata": {
        "id": "view-in-github",
        "colab_type": "text"
      },
      "source": [
        "<a href=\"https://colab.research.google.com/github/Ankythaaa/mini-pythonprojects/blob/main/LogisticRegression.ipynb\" target=\"_parent\"><img src=\"https://colab.research.google.com/assets/colab-badge.svg\" alt=\"Open In Colab\"/></a>"
      ]
    },
    {
      "cell_type": "code",
      "source": [
        "import numpy as np\n",
        "from sklearn.linear_model import LogisticRegression\n",
        "from sklearn.model_selection import train_test_split\n",
        "from sklearn.metrics import accuracy_score\n",
        "\n",
        "# Function to get user input for data\n",
        "def get_user_input():\n",
        "    n_samples = int(input(\"Enter the number of samples: \"))\n",
        "    n_features = int(input(\"Enter the number of features: \"))\n",
        "\n",
        "    x_input = []\n",
        "    y_input = []\n",
        "    for i in range(n_samples):\n",
        "        print(f\"Sample {i+1}:\")\n",
        "        features = []\n",
        "        for j in range(n_features):\n",
        "            feature = float(input(f\"Enter feature {j+1}: \"))\n",
        "            features.append(feature)\n",
        "        x_input.append(features)\n",
        "        label = int(input(\"Enter label (0 or 1): \"))\n",
        "        y_input.append(label)\n",
        "\n",
        "    return np.array(x_input), np.array(y_input)\n",
        "\n",
        "# Get user input for data\n",
        "x, y = get_user_input()\n",
        "\n",
        "# Split the data into training and testing sets\n",
        "x_train, x_test, y_train, y_test = train_test_split(x, y, test_size=0.2, random_state=42)\n",
        "\n",
        "# Create and fit the model\n",
        "model = LogisticRegression()\n",
        "model.fit(x_train, y_train)\n",
        "\n",
        "# Predict the output\n",
        "y_pred = model.predict(x_test)\n",
        "\n",
        "# Calculate accuracy\n",
        "accuracy = accuracy_score(y_test, y_pred)\n",
        "print(\"Accuracy:\", accuracy)"
      ],
      "metadata": {
        "colab": {
          "base_uri": "https://localhost:8080/"
        },
        "id": "_EhJlbuEM-9j",
        "outputId": "2f9ad7f8-004f-413e-a8ef-b4a3d3b43680"
      },
      "execution_count": 5,
      "outputs": [
        {
          "output_type": "stream",
          "name": "stdout",
          "text": [
            "Enter the number of samples: 3\n",
            "Enter the number of features: 5\n",
            "Sample 1:\n",
            "Enter feature 1: 23\n",
            "Enter feature 2: 56\n",
            "Enter feature 3: 78\n",
            "Enter feature 4: 55\n",
            "Enter feature 5: 88\n",
            "Enter label (0 or 1): 1\n",
            "Sample 2:\n",
            "Enter feature 1: 0\n",
            "Enter feature 2: 7\n",
            "Enter feature 3: 5\n",
            "Enter feature 4: 55\n",
            "Enter feature 5: 66\n",
            "Enter label (0 or 1): 0\n",
            "Sample 3:\n",
            "Enter feature 1: 11\n",
            "Enter feature 2: 22\n",
            "Enter feature 3: 33\n",
            "Enter feature 4: 44\n",
            "Enter feature 5: 55\n",
            "Enter label (0 or 1): 1\n",
            "Accuracy: 1.0\n"
          ]
        }
      ]
    },
    {
      "cell_type": "code",
      "source": [
        "34\n"
      ],
      "metadata": {
        "id": "a-mlXzazNQaw"
      },
      "execution_count": null,
      "outputs": []
    }
  ]
}